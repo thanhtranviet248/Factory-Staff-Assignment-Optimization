{
  "cells": [
    {
      "cell_type": "markdown",
      "metadata": {
        "id": "49ubAdz-mlSl"
      },
      "source": [
        "# Install and call library"
      ]
    },
    {
      "cell_type": "code",
      "execution_count": null,
      "metadata": {
        "colab": {
          "base_uri": "https://localhost:8080/"
        },
        "id": "Ri4llyltmRVC",
        "outputId": "7035c2b1-a4f3-4f8d-cc0b-08ebbc49b2ab"
      },
      "outputs": [
        {
          "output_type": "stream",
          "name": "stdout",
          "text": [
            "Requirement already satisfied: gurobipy in /usr/local/lib/python3.10/dist-packages (12.0.0)\n"
          ]
        }
      ],
      "source": [
        "# Install gurobipy library\n",
        "!pip install gurobipy"
      ]
    },
    {
      "cell_type": "code",
      "execution_count": null,
      "metadata": {
        "id": "XFscwzo_mcFg"
      },
      "outputs": [],
      "source": [
        "# Call gurobipy library\n",
        "import gurobipy as gp\n",
        "from gurobipy import *\n",
        "\n",
        "# Call pandas library\n",
        "import pandas as pd"
      ]
    },
    {
      "cell_type": "markdown",
      "metadata": {
        "id": "5PBw7vu2moZM"
      },
      "source": [
        "# Setup sets and parameters"
      ]
    },
    {
      "cell_type": "code",
      "execution_count": null,
      "metadata": {
        "id": "RzL_6LYamfIb"
      },
      "outputs": [],
      "source": [
        "# Sets\n",
        "I = 20 # Set of workforce (Labor 1, Labor 2, ..., Labor 20)\n",
        "J = 7 # Set of weekday (Monday, Tuesday, ..., Sunday)\n",
        "K = 3 # Set of shift (Morning, Afternoon, Evening)\n",
        "\n",
        "# Parameters\n",
        "demand = [\n",
        "    [6,4,3], ## Monday demand,\n",
        "    [5,5,5],## Tuesday demand,\n",
        "    [6,4,4], ## Wednesday demand,\n",
        "    [5,5,5], ## Thursday demand,\n",
        "    [5,5,3], ## Friday demand,\n",
        "    [6,5,4], ## Saturday demand,\n",
        "    [5,5,4] ## Sunday demand\n",
        "]"
      ]
    },
    {
      "cell_type": "markdown",
      "metadata": {
        "id": "srrLPIO5muaR"
      },
      "source": [
        "# Setup model"
      ]
    },
    {
      "cell_type": "code",
      "execution_count": null,
      "metadata": {
        "colab": {
          "base_uri": "https://localhost:8080/"
        },
        "collapsed": true,
        "id": "e8UZIZQlmwJE",
        "outputId": "069fa91c-1c42-40d8-be37-87efd53d1268"
      },
      "outputs": [
        {
          "output_type": "stream",
          "name": "stdout",
          "text": [
            "Restricted license - for non-production use only - expires 2026-11-23\n"
          ]
        },
        {
          "output_type": "execute_result",
          "data": {
            "text/plain": [
              "{(0, 0): <gurobi.Constr *Awaiting Model Update*>,\n",
              " (0, 1): <gurobi.Constr *Awaiting Model Update*>,\n",
              " (0, 2): <gurobi.Constr *Awaiting Model Update*>,\n",
              " (0, 3): <gurobi.Constr *Awaiting Model Update*>,\n",
              " (0, 4): <gurobi.Constr *Awaiting Model Update*>,\n",
              " (0, 5): <gurobi.Constr *Awaiting Model Update*>,\n",
              " (1, 0): <gurobi.Constr *Awaiting Model Update*>,\n",
              " (1, 1): <gurobi.Constr *Awaiting Model Update*>,\n",
              " (1, 2): <gurobi.Constr *Awaiting Model Update*>,\n",
              " (1, 3): <gurobi.Constr *Awaiting Model Update*>,\n",
              " (1, 4): <gurobi.Constr *Awaiting Model Update*>,\n",
              " (1, 5): <gurobi.Constr *Awaiting Model Update*>,\n",
              " (2, 0): <gurobi.Constr *Awaiting Model Update*>,\n",
              " (2, 1): <gurobi.Constr *Awaiting Model Update*>,\n",
              " (2, 2): <gurobi.Constr *Awaiting Model Update*>,\n",
              " (2, 3): <gurobi.Constr *Awaiting Model Update*>,\n",
              " (2, 4): <gurobi.Constr *Awaiting Model Update*>,\n",
              " (2, 5): <gurobi.Constr *Awaiting Model Update*>,\n",
              " (3, 0): <gurobi.Constr *Awaiting Model Update*>,\n",
              " (3, 1): <gurobi.Constr *Awaiting Model Update*>,\n",
              " (3, 2): <gurobi.Constr *Awaiting Model Update*>,\n",
              " (3, 3): <gurobi.Constr *Awaiting Model Update*>,\n",
              " (3, 4): <gurobi.Constr *Awaiting Model Update*>,\n",
              " (3, 5): <gurobi.Constr *Awaiting Model Update*>,\n",
              " (4, 0): <gurobi.Constr *Awaiting Model Update*>,\n",
              " (4, 1): <gurobi.Constr *Awaiting Model Update*>,\n",
              " (4, 2): <gurobi.Constr *Awaiting Model Update*>,\n",
              " (4, 3): <gurobi.Constr *Awaiting Model Update*>,\n",
              " (4, 4): <gurobi.Constr *Awaiting Model Update*>,\n",
              " (4, 5): <gurobi.Constr *Awaiting Model Update*>,\n",
              " (5, 0): <gurobi.Constr *Awaiting Model Update*>,\n",
              " (5, 1): <gurobi.Constr *Awaiting Model Update*>,\n",
              " (5, 2): <gurobi.Constr *Awaiting Model Update*>,\n",
              " (5, 3): <gurobi.Constr *Awaiting Model Update*>,\n",
              " (5, 4): <gurobi.Constr *Awaiting Model Update*>,\n",
              " (5, 5): <gurobi.Constr *Awaiting Model Update*>,\n",
              " (6, 0): <gurobi.Constr *Awaiting Model Update*>,\n",
              " (6, 1): <gurobi.Constr *Awaiting Model Update*>,\n",
              " (6, 2): <gurobi.Constr *Awaiting Model Update*>,\n",
              " (6, 3): <gurobi.Constr *Awaiting Model Update*>,\n",
              " (6, 4): <gurobi.Constr *Awaiting Model Update*>,\n",
              " (6, 5): <gurobi.Constr *Awaiting Model Update*>,\n",
              " (7, 0): <gurobi.Constr *Awaiting Model Update*>,\n",
              " (7, 1): <gurobi.Constr *Awaiting Model Update*>,\n",
              " (7, 2): <gurobi.Constr *Awaiting Model Update*>,\n",
              " (7, 3): <gurobi.Constr *Awaiting Model Update*>,\n",
              " (7, 4): <gurobi.Constr *Awaiting Model Update*>,\n",
              " (7, 5): <gurobi.Constr *Awaiting Model Update*>,\n",
              " (8, 0): <gurobi.Constr *Awaiting Model Update*>,\n",
              " (8, 1): <gurobi.Constr *Awaiting Model Update*>,\n",
              " (8, 2): <gurobi.Constr *Awaiting Model Update*>,\n",
              " (8, 3): <gurobi.Constr *Awaiting Model Update*>,\n",
              " (8, 4): <gurobi.Constr *Awaiting Model Update*>,\n",
              " (8, 5): <gurobi.Constr *Awaiting Model Update*>,\n",
              " (9, 0): <gurobi.Constr *Awaiting Model Update*>,\n",
              " (9, 1): <gurobi.Constr *Awaiting Model Update*>,\n",
              " (9, 2): <gurobi.Constr *Awaiting Model Update*>,\n",
              " (9, 3): <gurobi.Constr *Awaiting Model Update*>,\n",
              " (9, 4): <gurobi.Constr *Awaiting Model Update*>,\n",
              " (9, 5): <gurobi.Constr *Awaiting Model Update*>,\n",
              " (10, 0): <gurobi.Constr *Awaiting Model Update*>,\n",
              " (10, 1): <gurobi.Constr *Awaiting Model Update*>,\n",
              " (10, 2): <gurobi.Constr *Awaiting Model Update*>,\n",
              " (10, 3): <gurobi.Constr *Awaiting Model Update*>,\n",
              " (10, 4): <gurobi.Constr *Awaiting Model Update*>,\n",
              " (10, 5): <gurobi.Constr *Awaiting Model Update*>,\n",
              " (11, 0): <gurobi.Constr *Awaiting Model Update*>,\n",
              " (11, 1): <gurobi.Constr *Awaiting Model Update*>,\n",
              " (11, 2): <gurobi.Constr *Awaiting Model Update*>,\n",
              " (11, 3): <gurobi.Constr *Awaiting Model Update*>,\n",
              " (11, 4): <gurobi.Constr *Awaiting Model Update*>,\n",
              " (11, 5): <gurobi.Constr *Awaiting Model Update*>,\n",
              " (12, 0): <gurobi.Constr *Awaiting Model Update*>,\n",
              " (12, 1): <gurobi.Constr *Awaiting Model Update*>,\n",
              " (12, 2): <gurobi.Constr *Awaiting Model Update*>,\n",
              " (12, 3): <gurobi.Constr *Awaiting Model Update*>,\n",
              " (12, 4): <gurobi.Constr *Awaiting Model Update*>,\n",
              " (12, 5): <gurobi.Constr *Awaiting Model Update*>,\n",
              " (13, 0): <gurobi.Constr *Awaiting Model Update*>,\n",
              " (13, 1): <gurobi.Constr *Awaiting Model Update*>,\n",
              " (13, 2): <gurobi.Constr *Awaiting Model Update*>,\n",
              " (13, 3): <gurobi.Constr *Awaiting Model Update*>,\n",
              " (13, 4): <gurobi.Constr *Awaiting Model Update*>,\n",
              " (13, 5): <gurobi.Constr *Awaiting Model Update*>,\n",
              " (14, 0): <gurobi.Constr *Awaiting Model Update*>,\n",
              " (14, 1): <gurobi.Constr *Awaiting Model Update*>,\n",
              " (14, 2): <gurobi.Constr *Awaiting Model Update*>,\n",
              " (14, 3): <gurobi.Constr *Awaiting Model Update*>,\n",
              " (14, 4): <gurobi.Constr *Awaiting Model Update*>,\n",
              " (14, 5): <gurobi.Constr *Awaiting Model Update*>,\n",
              " (15, 0): <gurobi.Constr *Awaiting Model Update*>,\n",
              " (15, 1): <gurobi.Constr *Awaiting Model Update*>,\n",
              " (15, 2): <gurobi.Constr *Awaiting Model Update*>,\n",
              " (15, 3): <gurobi.Constr *Awaiting Model Update*>,\n",
              " (15, 4): <gurobi.Constr *Awaiting Model Update*>,\n",
              " (15, 5): <gurobi.Constr *Awaiting Model Update*>,\n",
              " (16, 0): <gurobi.Constr *Awaiting Model Update*>,\n",
              " (16, 1): <gurobi.Constr *Awaiting Model Update*>,\n",
              " (16, 2): <gurobi.Constr *Awaiting Model Update*>,\n",
              " (16, 3): <gurobi.Constr *Awaiting Model Update*>,\n",
              " (16, 4): <gurobi.Constr *Awaiting Model Update*>,\n",
              " (16, 5): <gurobi.Constr *Awaiting Model Update*>,\n",
              " (17, 0): <gurobi.Constr *Awaiting Model Update*>,\n",
              " (17, 1): <gurobi.Constr *Awaiting Model Update*>,\n",
              " (17, 2): <gurobi.Constr *Awaiting Model Update*>,\n",
              " (17, 3): <gurobi.Constr *Awaiting Model Update*>,\n",
              " (17, 4): <gurobi.Constr *Awaiting Model Update*>,\n",
              " (17, 5): <gurobi.Constr *Awaiting Model Update*>,\n",
              " (18, 0): <gurobi.Constr *Awaiting Model Update*>,\n",
              " (18, 1): <gurobi.Constr *Awaiting Model Update*>,\n",
              " (18, 2): <gurobi.Constr *Awaiting Model Update*>,\n",
              " (18, 3): <gurobi.Constr *Awaiting Model Update*>,\n",
              " (18, 4): <gurobi.Constr *Awaiting Model Update*>,\n",
              " (18, 5): <gurobi.Constr *Awaiting Model Update*>,\n",
              " (19, 0): <gurobi.Constr *Awaiting Model Update*>,\n",
              " (19, 1): <gurobi.Constr *Awaiting Model Update*>,\n",
              " (19, 2): <gurobi.Constr *Awaiting Model Update*>,\n",
              " (19, 3): <gurobi.Constr *Awaiting Model Update*>,\n",
              " (19, 4): <gurobi.Constr *Awaiting Model Update*>,\n",
              " (19, 5): <gurobi.Constr *Awaiting Model Update*>}"
            ]
          },
          "metadata": {},
          "execution_count": 4
        }
      ],
      "source": [
        "# Create a gurobipy model\n",
        "model = gp.Model(\"staff_assignment\")\n",
        "\n",
        "# Decision variable\n",
        "x = model.addVars(I, J, K, vtype=GRB.BINARY, name=\"Assigning staff i to day j at shift k\")\n",
        "\n",
        "# Objective function\n",
        "model.setObjective(gp.quicksum(x[i, j, k] for i in range(I) for j in range(J) for k in range(K)), GRB.MINIMIZE)\n",
        "\n",
        "# Constraints\n",
        "\n",
        "## For each shift k in each day j, the number of labor to be assigned must fulfill the demand\n",
        "model.addConstrs((gp.quicksum(x[i, j, k] for i in range(I)) == demand[j][k] for j in range(J) for k in range(K)), name=\"demand fulfill\")\n",
        "\n",
        "## For each labor i in each day j, the maximum number of shift he/she can work is 1\n",
        "model.addConstrs((gp.quicksum(x[i, j, k] for k in range(K)) <= 1 for i in range(I) for j in range(J)), name=\"max 1 shift a day\")\n",
        "\n",
        "## For each labor i, the maximum day and shift he/she can work is 5\n",
        "model.addConstrs((gp.quicksum(x[i, j, k] for j in range(J) for k in range(K)) <= 5 for i in range(I)), name=\"only work 5 days and 5 shifts a week\")\n",
        "\n",
        "## For each labor i in each 2 days j-1 and j, if he/she works on evening shift (k = 3) today, he/she cannot work on the morning shift (k = 1) tomorrow\n",
        "model.addConstrs((x[i, j, 2] + x[i, j+1, 0] <= 1 for i in range(I) for j in range(J-1)), name=\"if work on shift 3 today then no work on shift 1 tomorrow\")"
      ]
    },
    {
      "cell_type": "code",
      "execution_count": null,
      "metadata": {
        "colab": {
          "base_uri": "https://localhost:8080/"
        },
        "id": "P8Fnh704my3u",
        "outputId": "1ad6f3b4-7432-48a9-da44-e7fe5d136027"
      },
      "outputs": [
        {
          "output_type": "stream",
          "name": "stdout",
          "text": [
            "Gurobi Optimizer version 12.0.0 build v12.0.0rc1 (linux64 - \"Ubuntu 22.04.3 LTS\")\n",
            "\n",
            "CPU model: Intel(R) Xeon(R) CPU @ 2.20GHz, instruction set [SSE2|AVX|AVX2]\n",
            "Thread count: 1 physical cores, 2 logical processors, using up to 2 threads\n",
            "\n",
            "Optimize a model with 301 rows, 420 columns and 1500 nonzeros\n",
            "Model fingerprint: 0xd9d16d0a\n",
            "Variable types: 0 continuous, 420 integer (420 binary)\n",
            "Coefficient statistics:\n",
            "  Matrix range     [1e+00, 1e+00]\n",
            "  Objective range  [1e+00, 1e+00]\n",
            "  Bounds range     [1e+00, 1e+00]\n",
            "  RHS range        [1e+00, 6e+00]\n",
            "Found heuristic solution: objective 99.0000000\n",
            "Presolve time: 0.00s\n",
            "Presolved: 301 rows, 420 columns, 1500 nonzeros\n",
            "Variable types: 0 continuous, 420 integer (420 binary)\n",
            "\n",
            "Explored 0 nodes (0 simplex iterations) in 0.02 seconds (0.00 work units)\n",
            "Thread count was 2 (of 2 available processors)\n",
            "\n",
            "Solution count 1: 99 \n",
            "\n",
            "Optimal solution found (tolerance 1.00e-04)\n",
            "Best objective 9.900000000000e+01, best bound 9.900000000000e+01, gap 0.0000%\n"
          ]
        }
      ],
      "source": [
        "# Optimize model\n",
        "model.optimize()"
      ]
    },
    {
      "cell_type": "code",
      "execution_count": null,
      "metadata": {
        "colab": {
          "base_uri": "https://localhost:8080/"
        },
        "id": "6uSPA-6Gm9HC",
        "outputId": "3bc87732-5809-499b-c0a7-8291e8df90f0"
      },
      "outputs": [
        {
          "output_type": "stream",
          "name": "stdout",
          "text": [
            "     Staff  Day Shift    Status\n",
            "0        1    1   N/A     Leave\n",
            "1        1    2     1  Assigned\n",
            "2        1    3     2  Assigned\n",
            "3        1    4     2  Assigned\n",
            "4        1    5   N/A     Leave\n",
            "..     ...  ...   ...       ...\n",
            "135     20    3   N/A     Leave\n",
            "136     20    4   N/A     Leave\n",
            "137     20    5     3  Assigned\n",
            "138     20    6     3  Assigned\n",
            "139     20    7     2  Assigned\n",
            "\n",
            "[140 rows x 4 columns]\n"
          ]
        }
      ],
      "source": [
        "if model.status == GRB.OPTIMAL:\n",
        "    # Prepare data for the table\n",
        "    table_data = []\n",
        "\n",
        "    for i in range(I):\n",
        "        for j in range(J):\n",
        "            shifts = [k + 1 for k in range(K) if x[i, j, k].x > 1e-6]\n",
        "            if shifts:\n",
        "                for k in shifts:\n",
        "                    table_data.append({\n",
        "                        'Staff': i + 1,  # Staff numbers starting from 1\n",
        "                        'Day': j + 1,    # Days starting from 1\n",
        "                        'Shift': k,      # Shifts starting from 1\n",
        "                        'Status': 'Assigned'\n",
        "                    })\n",
        "            else:\n",
        "                # No shifts assigned on this day, so staff is on leave\n",
        "                table_data.append({\n",
        "                    'Staff': i + 1,\n",
        "                    'Day': j + 1,\n",
        "                    'Shift': 'N/A',\n",
        "                    'Status': 'Leave'\n",
        "                })\n",
        "\n",
        "    # Create DataFrame\n",
        "    df = pd.DataFrame(table_data)\n",
        "\n",
        "    # Print the DataFrame\n",
        "    print(df)\n",
        "\n",
        "    # Optionally, save to a CSV file\n",
        "    df.to_csv('staff_assignment.csv', index=False)\n",
        "\n",
        "else:\n",
        "    print(\"No optimal solution found.\")"
      ]
    }
  ],
  "metadata": {
    "colab": {
      "provenance": []
    },
    "kernelspec": {
      "display_name": "Python 3",
      "name": "python3"
    },
    "language_info": {
      "name": "python"
    }
  },
  "nbformat": 4,
  "nbformat_minor": 0
}