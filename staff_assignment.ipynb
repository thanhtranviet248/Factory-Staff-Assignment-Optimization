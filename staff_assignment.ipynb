{
 "cells": [
  {
   "cell_type": "code",
   "execution_count": 1,
   "id": "87502adf-b074-4825-8c3a-0b2013263642",
   "metadata": {},
   "outputs": [
    {
     "name": "stdout",
     "output_type": "stream",
     "text": [
      "Requirement already satisfied: gurobipy in d:\\anaconda\\lib\\site-packages (11.0.3)\n",
      "Note: you may need to restart the kernel to use updated packages.\n"
     ]
    }
   ],
   "source": [
    "pip install gurobipy"
   ]
  },
  {
   "cell_type": "code",
   "execution_count": 2,
   "id": "fc8a26c9-5bf1-4e73-991f-e0e2cabf7da7",
   "metadata": {},
   "outputs": [],
   "source": [
    "import gurobipy as gp\n",
    "from gurobipy import *\n",
    "import pandas as pd"
   ]
  },
  {
   "cell_type": "code",
   "execution_count": 3,
   "id": "7af344c7-96ea-4ce1-a755-3644070158dd",
   "metadata": {},
   "outputs": [
    {
     "name": "stdout",
     "output_type": "stream",
     "text": [
      "Restricted license - for non-production use only - expires 2025-11-24\n",
      "Gurobi Optimizer version 11.0.3 build v11.0.3rc0 (win64 - Windows 11.0 (22631.2))\n",
      "\n",
      "CPU model: 11th Gen Intel(R) Core(TM) i7-11800H @ 2.30GHz, instruction set [SSE2|AVX|AVX2|AVX512]\n",
      "Thread count: 8 physical cores, 16 logical processors, using up to 16 threads\n",
      "\n",
      "Optimize a model with 181 rows, 420 columns and 1260 nonzeros\n",
      "Model fingerprint: 0xffd36137\n",
      "Variable types: 0 continuous, 420 integer (420 binary)\n",
      "Coefficient statistics:\n",
      "  Matrix range     [1e+00, 1e+00]\n",
      "  Objective range  [1e+00, 1e+00]\n",
      "  Bounds range     [1e+00, 1e+00]\n",
      "  RHS range        [1e+00, 6e+00]\n",
      "Found heuristic solution: objective 99.0000000\n",
      "Presolve time: 0.00s\n",
      "Presolved: 181 rows, 420 columns, 1260 nonzeros\n",
      "Variable types: 0 continuous, 420 integer (420 binary)\n",
      "\n",
      "Root relaxation: cutoff, 193 iterations, 0.00 seconds (0.00 work units)\n",
      "\n",
      "    Nodes    |    Current Node    |     Objective Bounds      |     Work\n",
      " Expl Unexpl |  Obj  Depth IntInf | Incumbent    BestBd   Gap | It/Node Time\n",
      "\n",
      "     0     0     cutoff    0        99.00000   99.00000  0.00%     -    0s\n",
      "\n",
      "Explored 1 nodes (193 simplex iterations) in 0.01 seconds (0.00 work units)\n",
      "Thread count was 16 (of 16 available processors)\n",
      "\n",
      "Solution count 1: 99 \n",
      "\n",
      "Optimal solution found (tolerance 1.00e-04)\n",
      "Best objective 9.900000000000e+01, best bound 9.900000000000e+01, gap 0.0000%\n"
     ]
    }
   ],
   "source": [
    "# Create sets\n",
    "I = 20 #make a list of staff\n",
    "J = 7 #make a list of day\n",
    "K = 3 #make a list of shift\n",
    "\n",
    "# Create a new model\n",
    "model = gp.Model(\"staff_assignment\")\n",
    "\n",
    "# Create variables\n",
    "x = model.addVars(I, J, K, vtype=GRB.BINARY, name=\"Staff i is assigned to day j shift k\")\n",
    "\n",
    "# Set objective\n",
    "model.setObjective(gp.quicksum(x[i, j, k] for i in range(I) for j in range(J) for k in range(K)), GRB.MINIMIZE)\n",
    "\n",
    "# Set Constraints\n",
    "demand = [[6,4,3],[5,5,5],[6,4,4],[5,5,5],[5,5,3],[6,5,4],[5,5,4]]\n",
    "model.addConstrs((gp.quicksum(x[i, j, k] for i in range(I)) >= demand[j][k] for j in range(J) for k in range(K)), name=\"demand\")\n",
    "model.addConstrs((gp.quicksum(x[i, j, k] for k in range(K)) <= 1 for i in range(I)  for j in range(J)), name=\"only work 1 shift a day\")\n",
    "model.addConstrs((gp.quicksum(x[i, j, k] for j in range(J) for k in range(K)) <= 5 for i in range(I)), name=\"only work 5 days a week\")\n",
    "\n",
    "# Optimize model\n",
    "model.optimize()"
   ]
  },
  {
   "cell_type": "code",
   "execution_count": 4,
   "id": "b3a1a0d2-cc67-4710-a82a-4e63e8d99b74",
   "metadata": {},
   "outputs": [
    {
     "name": "stdout",
     "output_type": "stream",
     "text": [
      "     Staff  Day Shift    Status\n",
      "0        1    1   N/A     Leave\n",
      "1        1    2     2  Assigned\n",
      "2        1    3     2  Assigned\n",
      "3        1    4     2  Assigned\n",
      "4        1    5   N/A     Leave\n",
      "..     ...  ...   ...       ...\n",
      "135     20    3     1  Assigned\n",
      "136     20    4     2  Assigned\n",
      "137     20    5     3  Assigned\n",
      "138     20    6   N/A     Leave\n",
      "139     20    7   N/A     Leave\n",
      "\n",
      "[140 rows x 4 columns]\n"
     ]
    }
   ],
   "source": [
    "if model.status == GRB.OPTIMAL:\n",
    "    # Prepare data for the table\n",
    "    table_data = []\n",
    "\n",
    "    for i in range(I):\n",
    "        for j in range(J):\n",
    "            shifts = [k + 1 for k in range(K) if x[i, j, k].x > 1e-6]\n",
    "            if shifts:\n",
    "                for k in shifts:\n",
    "                    table_data.append({\n",
    "                        'Staff': i + 1,  # Staff numbers starting from 1\n",
    "                        'Day': j + 1,    # Days starting from 1\n",
    "                        'Shift': k,      # Shifts starting from 1\n",
    "                        'Status': 'Assigned'\n",
    "                    })\n",
    "            else:\n",
    "                # No shifts assigned on this day, so staff is on leave\n",
    "                table_data.append({\n",
    "                    'Staff': i + 1,\n",
    "                    'Day': j + 1,\n",
    "                    'Shift': 'N/A',\n",
    "                    'Status': 'Leave'\n",
    "                })\n",
    "\n",
    "    # Create DataFrame\n",
    "    df = pd.DataFrame(table_data)\n",
    "\n",
    "    # Print the DataFrame\n",
    "    print(df)\n",
    "\n",
    "    # Optionally, save to a CSV file\n",
    "    df.to_csv('staff_assignment.csv', index=False)\n",
    "\n",
    "else:\n",
    "    print(\"No optimal solution found.\")"
   ]
  },
  {
   "cell_type": "code",
   "execution_count": null,
   "id": "50541b33-fab5-4fd1-9d27-88773c90eeb1",
   "metadata": {},
   "outputs": [],
   "source": []
  }
 ],
 "metadata": {
  "kernelspec": {
   "display_name": "Python 3 (ipykernel)",
   "language": "python",
   "name": "python3"
  },
  "language_info": {
   "codemirror_mode": {
    "name": "ipython",
    "version": 3
   },
   "file_extension": ".py",
   "mimetype": "text/x-python",
   "name": "python",
   "nbconvert_exporter": "python",
   "pygments_lexer": "ipython3",
   "version": "3.11.7"
  }
 },
 "nbformat": 4,
 "nbformat_minor": 5
}
